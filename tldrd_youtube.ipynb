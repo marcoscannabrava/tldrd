{
 "cells": [
  {
   "cell_type": "code",
   "execution_count": 21,
   "metadata": {},
   "outputs": [],
   "source": [
    "from youtube_transcript_api import YouTubeTranscriptApi\n",
    "from youtube_transcript_api.formatters import TextFormatter\n",
    "from transformers import pipeline\n",
    "import math\n",
    "import textwrap\n",
    "from icecream import ic"
   ]
  },
  {
   "cell_type": "code",
   "execution_count": 13,
   "metadata": {},
   "outputs": [],
   "source": [
    "formatter = TextFormatter()\n",
    "transcript = YouTubeTranscriptApi.get_transcript(\"8a1yTN2kFNw\")\n",
    "text = formatter.format_transcript(transcript)\n",
    "text = text.replace('\\n', ' ')"
   ]
  },
  {
   "cell_type": "code",
   "execution_count": 22,
   "metadata": {},
   "outputs": [],
   "source": [
    "# Model only takes 1024 tokens max so we break down the text in 1000-word samples\n",
    "words = text.split(' ')\n",
    "text_samples = [text]\n",
    "if len(words) > 1000:\n",
    "    text_samples = textwrap.wrap(text, 1000)"
   ]
  },
  {
   "cell_type": "code",
   "execution_count": 24,
   "metadata": {},
   "outputs": [
    {
     "name": "stderr",
     "output_type": "stream",
     "text": [
      "ic| summaries_list: [[{'summary_text': ' Cyber weapons lab will learn a six step framework in '\n",
      "                                       \"order to pen test like a pro . The six steps that we're \"\n",
      "                                       'going to cover today are pre-engagement reconnaissance '\n",
      "                                       'vulnerability assessment vulnerability assessment '\n",
      "                                       'exploitation post exploitation and reporting the '\n",
      "                                       'engagement .'}],\n",
      "                     [{'summary_text': ' The reconnaissance phase is where we use tools such as '\n",
      "                                       'nmap to scan local networks or tools like show Dan to scan '\n",
      "                                       'the entire Internet to define devices that are potentially '\n",
      "                                       'vulnerable to exploitation phase three is the '\n",
      "                                       'vulnerability assessment phase . Stage five post '\n",
      "                                       'exploitation is only possible after a successful '\n",
      "                                       'exploitation is completed .'}],\n",
      "                     [{'summary_text': ' Cyber weapons lab is tackling a web server on our low at '\n",
      "                                       'work . The final stage of a penetration test is reporting '\n",
      "                                       '. This is where we gather all the knowledge that we gain '\n",
      "                                       'throughout the penetration test organize it and publish it '\n",
      "                                       'so other people can be aware of this vulnerability on this '\n",
      "                                       'episode of cyber weapons lab .'}],\n",
      "                     [{'summary_text': \" A quick one liner that you can use to see if there's any \"\n",
      "                                       'open port ATS on your local network . To do that you just '\n",
      "                                       'have to type in nmap and then s capital v for service scan '\n",
      "                                       \"and then you're just gonna select the range of IPs that \"\n",
      "                                       \"you want to scan somebody 192.168.1.1 and we're gonna \"\n",
      "                                       \"specify our subnet mask with slash 24 then i'm going to \"\n",
      "                                       'specify port 80 . After a couple seconds we can see all '\n",
      "                                       \"the devices attached to our local network and whether it's \"\n",
      "                                       'open closed or filtered .'}],\n",
      "                     [{'summary_text': \" Network reconnaissance to identify our target we're gonna \"\n",
      "                                       'go to the next stage which is vulnerability assessment . '\n",
      "                                       \"We're gonna use a tool called nassos which has been \"\n",
      "                                       'covered on NOAA bite before and that article will be links '\n",
      "                                       'in the description as well .'}],\n",
      "                     [{'summary_text': \" The first time using estus you're gonna have to set up an \"\n",
      "                                       \"account I already have so I'm going to log in under Koufax \"\n",
      "                                       \". The main screen is all the different scans that you've \"\n",
      "                                       \"saved or have used previously on Nessus I've already done \"\n",
      "                                       'the scan .'}],\n",
      "                     [{'summary_text': ' Metasploit able virtual machine has taking up a lot of '\n",
      "                                       \"owner abilities and there's some other devices I want to \"\n",
      "                                       'network which might be susceptible to some vulnerabilities '\n",
      "                                       'as well . because this is a pretty big scan it will take a '\n",
      "                                       'while so before I started recording I ran the scan earlier '\n",
      "                                       '.'}],\n",
      "                     [{'summary_text': ' This is just for demonstration purposes so if for some '\n",
      "                                       'reason a web app allows you to ping IP addresses then you '\n",
      "                                       'can take advantage of that and use the computer that '\n",
      "                                       \"you're using to ping and use it for whatever you want to \"\n",
      "                                       \"do . I'm able to actually see the files on this Metasploit \"\n",
      "                                       'able computer without having to put a password in or '\n",
      "                                       'anything .'}],\n",
      "                     [{'summary_text': \" We're going to create a terminal in the net cat shell so \"\n",
      "                                       'you can go ahead and submit that it might take a second or '\n",
      "                                       'two and then now if we go back to our terminal you can see '\n",
      "                                       \"some funky stuff happen and actually closed so let's \"\n",
      "                                       'actually try that again .'}],\n",
      "                     [{'summary_text': ' Using a previous video within on a tool called posting um '\n",
      "                                       'which you can use to scan all device and find any '\n",
      "                                       'vulnerabilities that that device is susceptible to . You '\n",
      "                                       'can either raise your privileges or create a permanent '\n",
      "                                       \"backdoor into that computer so assuming that you've been \"\n",
      "                                       'able to access a the target computer either by creating a '\n",
      "                                       'reverse show with command injection or whatsoever we can '\n",
      "                                       'go ahead and install posting them onto the target .'}],\n",
      "                     [{'summary_text': ' We can download posting them by using the stub you get '\n",
      "                                       \"command just downloading the script directly . We're going \"\n",
      "                                       'ahead and install it onto our local machine okay and then '\n",
      "                                       'now we can see that we have posting them somewhere there '\n",
      "                                       \"that's the posting them that SH and let's go ahead and set \"\n",
      "                                       'up a simple HTTP server on port 1 2 3 4 ok .'}],\n",
      "                     [{'summary_text': ' We can see what versions of software are actually '\n",
      "                                       \"installed on this computer so we can see if there's any \"\n",
      "                                       'outdated versions which can be exploited to escalate '\n",
      "                                       'privileges so to do that you just have to use chmod ok '\n",
      "                                       'even though we can go ahead and try and run it like we did '\n",
      "                                       'earlier when we went ahead and make this bigger .'}],\n",
      "                     [{'summary_text': ' that Python Perl Perl PHP GCC and nmap are all installed '\n",
      "                                       'on this computer so if we have a Python script that we are '\n",
      "                                       'ready to deploy that will you know is pretty effective at '\n",
      "                                       \"escalating user privileges then we know that's we will be \"\n",
      "                                       'able to deploy on to this computer see how files can be '\n",
      "                                       'uploaded we can use FTP netcat netcat W get which is what '\n",
      "                                       'we use to actually get posted them onto this computer curl '\n",
      "                                       '.'}],\n",
      "                     [{'summary_text': ' Nik Kershaw explains how to perform pen testing with a '\n",
      "                                       'Waze app . Performing all of these steps to completion may '\n",
      "                                       'seem overzealous for any complicated tasks such as pen '\n",
      "                                       \"testing it's important to have a proven set of steps .\"}]]\n"
     ]
    },
    {
     "data": {
      "text/plain": [
       "[[{'summary_text': \" Cyber weapons lab will learn a six step framework in order to pen test like a pro . The six steps that we're going to cover today are pre-engagement reconnaissance vulnerability assessment vulnerability assessment exploitation post exploitation and reporting the engagement .\"}],\n",
       " [{'summary_text': ' The reconnaissance phase is where we use tools such as nmap to scan local networks or tools like show Dan to scan the entire Internet to define devices that are potentially vulnerable to exploitation phase three is the vulnerability assessment phase . Stage five post exploitation is only possible after a successful exploitation is completed .'}],\n",
       " [{'summary_text': ' Cyber weapons lab is tackling a web server on our low at work . The final stage of a penetration test is reporting . This is where we gather all the knowledge that we gain throughout the penetration test organize it and publish it so other people can be aware of this vulnerability on this episode of cyber weapons lab .'}],\n",
       " [{'summary_text': \" A quick one liner that you can use to see if there's any open port ATS on your local network . To do that you just have to type in nmap and then s capital v for service scan and then you're just gonna select the range of IPs that you want to scan somebody 192.168.1.1 and we're gonna specify our subnet mask with slash 24 then i'm going to specify port 80 . After a couple seconds we can see all the devices attached to our local network and whether it's open closed or filtered .\"}],\n",
       " [{'summary_text': \" Network reconnaissance to identify our target we're gonna go to the next stage which is vulnerability assessment . We're gonna use a tool called nassos which has been covered on NOAA bite before and that article will be links in the description as well .\"}],\n",
       " [{'summary_text': \" The first time using estus you're gonna have to set up an account I already have so I'm going to log in under Koufax . The main screen is all the different scans that you've saved or have used previously on Nessus I've already done the scan .\"}],\n",
       " [{'summary_text': \" Metasploit able virtual machine has taking up a lot of owner abilities and there's some other devices I want to network which might be susceptible to some vulnerabilities as well . because this is a pretty big scan it will take a while so before I started recording I ran the scan earlier .\"}],\n",
       " [{'summary_text': \" This is just for demonstration purposes so if for some reason a web app allows you to ping IP addresses then you can take advantage of that and use the computer that you're using to ping and use it for whatever you want to do . I'm able to actually see the files on this Metasploit able computer without having to put a password in or anything .\"}],\n",
       " [{'summary_text': \" We're going to create a terminal in the net cat shell so you can go ahead and submit that it might take a second or two and then now if we go back to our terminal you can see some funky stuff happen and actually closed so let's actually try that again .\"}],\n",
       " [{'summary_text': \" Using a previous video within on a tool called posting um which you can use to scan all device and find any vulnerabilities that that device is susceptible to . You can either raise your privileges or create a permanent backdoor into that computer so assuming that you've been able to access a the target computer either by creating a reverse show with command injection or whatsoever we can go ahead and install posting them onto the target .\"}],\n",
       " [{'summary_text': \" We can download posting them by using the stub you get command just downloading the script directly . We're going ahead and install it onto our local machine okay and then now we can see that we have posting them somewhere there that's the posting them that SH and let's go ahead and set up a simple HTTP server on port 1 2 3 4 ok .\"}],\n",
       " [{'summary_text': \" We can see what versions of software are actually installed on this computer so we can see if there's any outdated versions which can be exploited to escalate privileges so to do that you just have to use chmod ok even though we can go ahead and try and run it like we did earlier when we went ahead and make this bigger .\"}],\n",
       " [{'summary_text': \" that Python Perl Perl PHP GCC and nmap are all installed on this computer so if we have a Python script that we are ready to deploy that will you know is pretty effective at escalating user privileges then we know that's we will be able to deploy on to this computer see how files can be uploaded we can use FTP netcat netcat W get which is what we use to actually get posted them onto this computer curl .\"}],\n",
       " [{'summary_text': \" Nik Kershaw explains how to perform pen testing with a Waze app . Performing all of these steps to completion may seem overzealous for any complicated tasks such as pen testing it's important to have a proven set of steps .\"}]]"
      ]
     },
     "execution_count": 24,
     "metadata": {},
     "output_type": "execute_result"
    }
   ],
   "source": [
    "summarizer = pipeline(\"summarization\")\n",
    "summaries_list = []\n",
    "for sample in text_samples:\n",
    "    summaries_list.append(summarizer(sample, max_length=130, min_length=30, do_sample=False))\n",
    "ic(summaries_list)"
   ]
  }
 ],
 "metadata": {
  "kernelspec": {
   "display_name": "Python 3",
   "language": "python",
   "name": "python3"
  },
  "language_info": {
   "codemirror_mode": {
    "name": "ipython",
    "version": 3
   },
   "file_extension": ".py",
   "mimetype": "text/x-python",
   "name": "python",
   "nbconvert_exporter": "python",
   "pygments_lexer": "ipython3",
   "version": "3.7.6"
  }
 },
 "nbformat": 4,
 "nbformat_minor": 4
}
