{
 "cells": [
  {
   "cell_type": "code",
   "execution_count": 1,
   "metadata": {},
   "outputs": [],
   "source": [
    "from youtube_transcript_api import YouTubeTranscriptApi\n",
    "from youtube_transcript_api.formatters import TextFormatter\n",
    "from transformers import pipeline, BartModel, BartTokenizerFast"
   ]
  },
  {
   "cell_type": "code",
   "execution_count": 2,
   "metadata": {},
   "outputs": [],
   "source": [
    "# gets video transcript from YouTube API and parse it\n",
    "formatter = TextFormatter()\n",
    "transcript = YouTubeTranscriptApi.get_transcript(\"MlBQhdqmaQc\")\n",
    "text = formatter.format_transcript(transcript)\n",
    "text = text.replace('\\n', ' ')"
   ]
  },
  {
   "cell_type": "code",
   "execution_count": 3,
   "metadata": {},
   "outputs": [],
   "source": [
    "# Runs Bart NLP Model to summarize first 1024 tokens of the transcript (first ~1000 words)\n",
    "tokenizer = BartTokenizerFast.from_pretrained(\"facebook/bart-large-cnn\")\n",
    "summarizer = pipeline(\"summarization\", model=\"facebook/bart-large-cnn\", tokenizer=tokenizer)\n",
    "summary = summarizer(text, max_length=130, min_length=30, truncation=True)"
   ]
  },
  {
   "cell_type": "code",
   "execution_count": 4,
   "metadata": {},
   "outputs": [
    {
     "output_type": "stream",
     "name": "stdout",
     "text": [
      "[{'summary_text': \"Thiago forte is an internationally recognized speaker productivity expert. He's the founder of education company forte labs. He spent more than 10 years researching developing and teaching the practices of idea management. Thiago will teach you how to take digital notes to organize your brain.\"}]\n"
     ]
    }
   ],
   "source": [
    "print(summary)"
   ]
  }
 ],
 "metadata": {
  "kernelspec": {
   "display_name": "Python 3",
   "language": "python",
   "name": "python3"
  },
  "language_info": {
   "codemirror_mode": {
    "name": "ipython",
    "version": 3
   },
   "file_extension": ".py",
   "mimetype": "text/x-python",
   "name": "python",
   "nbconvert_exporter": "python",
   "pygments_lexer": "ipython3",
   "version": "3.7.6"
  }
 },
 "nbformat": 4,
 "nbformat_minor": 4
}